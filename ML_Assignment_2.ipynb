{
  "cells": [
    {
      "cell_type": "markdown",
      "metadata": {
        "id": "view-in-github",
        "colab_type": "text"
      },
      "source": [
        "<a href=\"https://colab.research.google.com/github/rita0435/Aprendizagem_Computacional_TPC/blob/main/ML_Assignment_2.ipynb\" target=\"_parent\"><img src=\"https://colab.research.google.com/assets/colab-badge.svg\" alt=\"Open In Colab\"/></a>"
      ]
    },
    {
      "cell_type": "markdown",
      "id": "32620509",
      "metadata": {
        "id": "32620509"
      },
      "source": [
        "# Assignment 2"
      ]
    },
    {
      "cell_type": "markdown",
      "id": "c03c866e",
      "metadata": {
        "id": "c03c866e"
      },
      "source": [
        "## 1. Generative classifiers"
      ]
    },
    {
      "cell_type": "markdown",
      "id": "38343624",
      "metadata": {
        "id": "38343624"
      },
      "source": [
        "Consider a classification problem with a target variable $y \\in \\{0, 1\\}$ and input features $\\boldsymbol{x} = (x_1\\; x_2\\; x_3\\; x_4)^T$, where $x_1 \\in \\{0, 1\\}$, $x_2 \\in \\{0, 1\\}$, and $(x_3, x_4) \\in \\mathbb{R}^2$. Further assume that:\n",
        "- $(x_1, x_2)$ is conditionally independent of $(x_3, x_4)$ given $y$;\n",
        "- $x_1$ and $x_2$ are **dependent** given $y$;\n",
        "- $x_3$ and $x_4$ are **dependent** given $y$;\n",
        "- the conditional distributions of $(x_3, x_4)$ given $y$ are Gaussian."
      ]
    },
    {
      "cell_type": "markdown",
      "id": "84c2977c",
      "metadata": {
        "id": "84c2977c"
      },
      "source": [
        "### 1.1"
      ]
    },
    {
      "cell_type": "markdown",
      "id": "e6081895",
      "metadata": {
        "id": "e6081895"
      },
      "source": [
        "**a)** Enumerate the parameters of the MAP classifier: $$\\hat{y} = \\text{arg} \\max_{y \\in \\{0, 1\\}} p(y)p(\\boldsymbol{x} \\mid y),$$ and indicate the dimension of each parameter."
      ]
    },
    {
      "cell_type": "markdown",
      "id": "8fc08105",
      "metadata": {
        "id": "8fc08105"
      },
      "source": [
        "We need to learn the class-conditional probability distributions $p(\\mathbf{x}|y)$, which can be written as:\n",
        "\n",
        "$$\n",
        "p(x_1, x_2, x_3, x_4 | y) = p(x_1, x_2 | x_3, x_4, y) p(x_3, x_4 | y)\n",
        "$$\n",
        "\n",
        "The assumption:\n",
        ">$(x_1, x_2)$ is conditionally independent of $(x_3, x_4)$ given $y$\n",
        "\n",
        "allows us to simplify the expression as \n",
        "\n",
        "$$\n",
        "p(x_1, x_2, x_3, x_4 | y) = p(x_1, x_2 | y) p(x_3, x_4 | y)\n",
        "$$\n",
        "\n",
        "Of course, we can't decouple the joint conditionals any further since they involve *dependent* variables.\n",
        "\n",
        "In order to estimate $p(x_1, x_2 | y)$, we need to look at a $2\\times 2$ probability table for each possible value $y_k$ of $y$, since $x_1, x_2$ are themselves binary.\n",
        "\n",
        "For each table, we need to estimate only $4 - 1 = 3$ parameters $\\pi_{ijk}$, since we have the additional restriction $\\sum_{i,j} \\pi_{ijk} = 1$. Thus, this term contributes 2 parameters vectors $\\mathbf{\\pi_k} \\in \\mathbb{R}^3$.\n",
        "\n",
        "On the other hand, we assume that $x_3, x_4$ each follow a Gaussian distribution. In order to study how to estimate $p(x_3, x_4 | y)$, we introduce the notation $\\mathbf{u} = [x_3, x_4]^T$ so that $p(\\mathbf{u}|y=y_k) \\sim \\mathcal{N}(\\mathbf{\\mu_k, \\Sigma_k})$ (i.e a 2D Gaussian distribution). Here, we imposed the usual assumption of a *shared covariance matrix* between $x_3, x_4$.\n",
        "\n",
        "Each mean vector $\\mathbf{\\mu}_k \\in \\mathbb{R}^2$ contributes 2 parameters. Moreover, each covariance matrix $\\Sigma_k \\in \\mathbb{R}^{2\\times 2}$ accounts for 3 parameters; in general, a $D\\times D$ covariance matrix has only $\\frac{D(D+1)}{2}$ degrees of freedom, since it is *symmetric*.\n",
        "\n",
        "> **Conclusion:**\n",
        "> 16 parameters in total, better described as:\n",
        "> - $\\mathbf{\\pi_k} \\in \\mathbb{R}^3$\n",
        "> - $\\mathbf{\\pi_k} \\in \\mathbb{R}^3$\n",
        "> - $\\Sigma_k \\in \\mathbb{R}^{2\\times 2}$\n",
        ">\n",
        "> where $k \\in \\{0, 1\\}$, and as discussed only the upper triangular part of $\\Sigma_k$ needs to be estimated.\n",
        "> We don't need to look at each $k$ separately. If the union $\\bigcup_{k=1}^{K}y_k$ spans the whole target space, since $y$ is binary we can simply estimate the posterior $p$ of e.g. positive class $k=1$. The posterior of the negative class will simply be the complement $1 - p$.\n",
        ">\n",
        "> This, of course, brings the total of paramters to 8."
      ]
    },
    {
      "cell_type": "markdown",
      "id": "41873490",
      "metadata": {
        "id": "41873490"
      },
      "source": [
        "**b)** Given a dataset $\\{(\\boldsymbol{x}^{(i)}, y^{(i)})\\}_{i=1}^n$, write the expressions for the maximum likelihood estimates of the parameters enumerated in the previous question."
      ]
    },
    {
      "cell_type": "markdown",
      "id": "7a2a6e5d",
      "metadata": {
        "id": "7a2a6e5d"
      },
      "source": [
        "For the probabilities $\\pi_{ijk}$, we have\n",
        "$$\n",
        "\\hat{\\pi}_{ijk} = \\frac{\\text{# observations with $x_{ij}$ in the subset $y=y_k$}}{\\text{# observations in the subset $y=y_k$}}\n",
        "$$\n",
        "\n",
        "For the means $\\mathbf{\\mu}_k$, we have:\n",
        "$$\n",
        "\\hat{\\mathbf{\\mu}}_k = \\frac{1}{n_k}\\sum_{i=1}^{n_k} \\mathbf{u}\n",
        "$$\n",
        "where $n_k$ denotes the number of observations in the subset $y=y_k$.\n",
        "\n",
        "For the covariance matrices $\\Sigma_k$,\n",
        "$$\n",
        "\\hat{\\Sigma}_k = \\frac{1}{n_k}\\sum_{i=1}^{n_k}(\\mathbf{u} - \\hat{\\mathbf{\\mu}}_k)(\\mathbf{u} - \\hat{\\mathbf{\\mu}}_k)^T\n",
        "$$"
      ]
    },
    {
      "cell_type": "markdown",
      "id": "2c45eaf5",
      "metadata": {
        "id": "2c45eaf5"
      },
      "source": [
        "### 1.2"
      ]
    },
    {
      "cell_type": "markdown",
      "id": "9823efc7",
      "metadata": {
        "id": "9823efc7"
      },
      "source": [
        "Now, you will implement this classifier in Python. The classifier skeleton is provided below in the class `Classifier`. You may implement additional auxiliary methods that you find useful."
      ]
    },
    {
      "cell_type": "code",
      "execution_count": 2,
      "id": "12ed9dc4",
      "metadata": {
        "id": "12ed9dc4"
      },
      "outputs": [],
      "source": [
        "import numpy as np\n",
        "from scipy.stats  import multivariate_normal\n",
        "# import more packages if you need\n",
        "\n",
        "class Classifier:\n",
        "    def fit(self, X, y):\n",
        "        '''\n",
        "        Inputs:\n",
        "            X - np.array with shape (num_examples_train, 4)\n",
        "            y - np.array with shape (num_examples_train,)\n",
        "        '''\n",
        "        ###\n",
        "        self.num_features = 4\n",
        "        self.num_classes = 2\n",
        "        \n",
        "        self.prob_tables = []\n",
        "        self.means = []\n",
        "        self.covs = []\n",
        "        self.priors = np.zeros(self.num_classes)\n",
        "        \n",
        "        N = X.shape[0]\n",
        "        for c in range(self.num_classes):\n",
        "            # X: (num_examples, num_features)\n",
        "            # y: (num_examples, )\n",
        "            mask = (y == c)\n",
        "            Xc = X[mask]\n",
        "            \n",
        "            Xcd = Xc[:, :2].astype(int) # Discrete features\n",
        "            Xcc = Xc[:, 2:] # Continuous features\n",
        "            \n",
        "            # Estimate parameters for discrete variables\n",
        "            prob_table = np.zeros((2, 2))\n",
        "            for i in range(2):\n",
        "                for j in range(2):\n",
        "                    temp = (Xcd ^ np.array([i, j])).sum(axis=1) # bitwise XOR is zero if equal\n",
        "                    mask_ij = (temp == 0) \n",
        "                    prob_table[i, j] = mask_ij.sum(axis=0) / Xc.shape[0]\n",
        "            self.prob_tables.append(prob_table)\n",
        "            \n",
        "            # Estimate parameters for continuous variables\n",
        "            mean = Xcc.mean(axis=0)\n",
        "            cov = np.cov(Xcc.T)\n",
        "            self.means.append(mean)\n",
        "            self.covs.append(cov)\n",
        "            \n",
        "            # Estimate the priors\n",
        "            self.priors[c] = np.sum(mask) / N\n",
        "        ###\n",
        "    \n",
        "    def predict(self, X):\n",
        "        '''\n",
        "        Inputs:\n",
        "            X - np.array with shape (num_examples_test, 4)\n",
        "        \n",
        "        Outputs:\n",
        "            ypred - np.array with shape (num_examples_test,)\n",
        "            posteriors - np.array with shape (num_examples_test, 2)\n",
        "        '''\n",
        "        ###\n",
        "        # X: (num_examples, num_features)\n",
        "        # y: (num_examples, )\n",
        "        posteriors = self.posterior(X)\n",
        "        print(posteriors.shape)\n",
        "        preds = np.argmax(posteriors, axis=1)\n",
        "        return preds, posteriors # pred: (num_examples, )\n",
        "        ###\n",
        "    \n",
        "    def likelihood(self, X):\n",
        "        Xd = X[:, :2].astype(int) # Discrete features\n",
        "        Xc = X[:, 2:] # Continuous features\n",
        "        likelihoods = self.discrete_likelihood(Xd) * self.continuous_likelihood(Xc)\n",
        "        return likelihoods # likelihoods: (num_examples, num_classes)\n",
        "        \n",
        "    def discrete_likelihood(self, X):\n",
        "        N = X.shape[0]\n",
        "        likelihoods = np.zeros((N, self.num_classes))\n",
        "        for c in range(self.num_classes):\n",
        "            prob_table = self.prob_tables[c]\n",
        "            likelihoods[:, c] = prob_table[X[:, 0], X[:, 1]]\n",
        "        return likelihoods # likelihoods: (num_examples, num_classes)\n",
        "    \n",
        "    def continuous_likelihood(self, X):\n",
        "        N = X.shape[0]\n",
        "        likelihoods = np.zeros((N, self.num_classes))\n",
        "        for c in range(self.num_classes):\n",
        "            likelihoods[:, c] = multivariate_normal.pdf(\n",
        "                X,\n",
        "                mean=self.means[c],\n",
        "                cov=self.covs[c]\n",
        "            )\n",
        "        return likelihoods # likelihoods: (num_examples, num_classes)\n",
        "    \n",
        "    def posterior(self, X):\n",
        "        likelihoods = self.likelihood(X)\n",
        "        posteriors = self.priors.reshape(1, self.num_classes) * likelihoods # (1, num_classes) x (num_examples, num_classes)\n",
        "        posteriors /= posteriors.sum(axis=1)[:, np.newaxis] # normalize posteriors\n",
        "        return posteriors # posteriors: (num_examples, num_classes)"
      ]
    },
    {
      "cell_type": "markdown",
      "id": "6d2bf886",
      "metadata": {
        "id": "6d2bf886"
      },
      "source": [
        "**N.B.:** In both a) and b), you should avoid for loops as much as possible by using vectorized NumPy operations and broadcasting."
      ]
    },
    {
      "cell_type": "markdown",
      "id": "2fe3261d",
      "metadata": {
        "id": "2fe3261d"
      },
      "source": [
        "**a)** Implement the `fit` method, which receives as input two `np.array`s:\n",
        "- `X`, which contains the 4-dimensional training input examples $\\boldsymbol{x}^{(i)}$, one per row;\n",
        "- `y`, which contains the corresponding training labels $y^{(i)} \\in \\{0,1\\}$, one per row.\n",
        "\n",
        "This method should compute the maximum likelihood estimates of the model parameters and store them as class attributes."
      ]
    },
    {
      "cell_type": "markdown",
      "id": "314b8621",
      "metadata": {
        "id": "314b8621"
      },
      "source": [
        "**b)** Implement the `predict` method, which receives as input one `np.array`:\n",
        "- `X`, which contains the 4-dimensional examples $\\boldsymbol{x}^{(i)}$ to be classified, one per row.\n",
        "\n",
        "This function should return two `np.array`s:\n",
        "- `ypred`, which should contain the predicted class for each $\\boldsymbol{x}^{(i)}$, one per row.\n",
        "- `posteriors`, which should contain the posterior probabilities of each class given each $\\boldsymbol{x}^{(i)}$, one per row."
      ]
    },
    {
      "cell_type": "markdown",
      "id": "93e3bcac",
      "metadata": {
        "id": "93e3bcac"
      },
      "source": [
        "If you have solved a) and b) correctly, the code below should run without errors and the reported test accuracy should be higher than 80%."
      ]
    },
    {
      "cell_type": "code",
      "execution_count": 3,
      "id": "b0780e01",
      "metadata": {
        "colab": {
          "base_uri": "https://localhost:8080/"
        },
        "id": "b0780e01",
        "outputId": "08dbcc21-3857-4cac-948c-b20aaa9b9ce4"
      },
      "outputs": [
        {
          "output_type": "stream",
          "name": "stdout",
          "text": [
            "(100, 2)\n",
            "Example 0:\n",
            "  posteriors = [0.98215382 0.01784618]\n",
            "  predicted class = 0\n",
            "  ground-truth class = 0\n",
            "\n",
            "Example 1:\n",
            "  posteriors = [0.76798406 0.23201594]\n",
            "  predicted class = 0\n",
            "  ground-truth class = 1\n",
            "\n",
            "Example 2:\n",
            "  posteriors = [0.03193052 0.96806948]\n",
            "  predicted class = 1\n",
            "  ground-truth class = 1\n",
            "\n",
            "Test accuracy = 92.0%\n"
          ]
        }
      ],
      "source": [
        "# read the data from file\n",
        "data = np.genfromtxt('ex1_data.txt')\n",
        "X, y = data[:, 0:4], data[:, 4].astype(int)\n",
        "\n",
        "# use the first 400 lines for training and the remaining 100 lines for testing\n",
        "Xtrain, ytrain = X[0:400], y[0:400]\n",
        "Xtest, ytest = X[400:], y[400:]\n",
        "\n",
        "# instantiate the classifier and train it\n",
        "classifier = Classifier()\n",
        "classifier.fit(Xtrain, ytrain)\n",
        "\n",
        "# get the predictions on the test data\n",
        "ypred, posteriors = classifier.predict(Xtest)\n",
        "print('Example 0:')\n",
        "print('  posteriors =', posteriors[0])\n",
        "print('  predicted class =', ypred[0])\n",
        "print('  ground-truth class =', ytest[0])\n",
        "print()\n",
        "print('Example 1:')\n",
        "print('  posteriors =', posteriors[1])\n",
        "print('  predicted class =', ypred[1])\n",
        "print('  ground-truth class =', ytest[1])\n",
        "print()\n",
        "print('Example 2:')\n",
        "print('  posteriors =', posteriors[2])\n",
        "print('  predicted class =', ypred[2])\n",
        "print('  ground-truth class =', ytest[2])\n",
        "print()\n",
        "\n",
        "# compute the accuracy on the test set\n",
        "acc = np.mean(ypred == ytest)\n",
        "print(f'Test accuracy = {100.*acc:.1f}%')"
      ]
    },
    {
      "cell_type": "markdown",
      "id": "68ca18f0",
      "metadata": {
        "id": "68ca18f0"
      },
      "source": [
        "## 2. Logistic regression"
      ]
    },
    {
      "cell_type": "markdown",
      "id": "afc50814",
      "metadata": {
        "id": "afc50814"
      },
      "source": [
        "Consider the `heightWeightData.txt` dataset that you have used in the Lab classes. You will use this data to build a Logistic Regression classifier that predicts the sex of an individual given their height and weight."
      ]
    },
    {
      "cell_type": "markdown",
      "id": "1201ad8f",
      "metadata": {
        "id": "1201ad8f"
      },
      "source": [
        "**a)** Train a Logistic Regression classifier **using only the first 160 rows** of the dataset as training data. You may use Scikit-Learn (`sklearn.linear_model.LogisticRegression`). **Print the values of the learned parameters.**"
      ]
    },
    {
      "cell_type": "code",
      "execution_count": 77,
      "id": "596173f6",
      "metadata": {
        "colab": {
          "base_uri": "https://localhost:8080/"
        },
        "id": "596173f6",
        "outputId": "d65dc3a9-fddb-4ed6-e52d-2be8665876ae"
      },
      "outputs": [
        {
          "output_type": "stream",
          "name": "stdout",
          "text": [
            "Coefficients = [[-0.06608927 -0.11613472]]; Bias = [19.67694556]\n"
          ]
        }
      ],
      "source": [
        "import matplotlib.pyplot as plt\n",
        "from sklearn.linear_model import LogisticRegression\n",
        "from sklearn.model_selection import GridSearchCV\n",
        "\n",
        "# Load data\n",
        "data = np.loadtxt('heightWeightData.txt', delimiter=',')\n",
        "\n",
        "# Separate train/test sets\n",
        "X_train, y_train = data[:160, 1:], data[:160, 0]\n",
        "X_test, y_test = data[160:, 1:], data[160:, 0]\n",
        "\n",
        "# Perform hyper-parameter tuning with cross-validation\n",
        "model = LogisticRegression(random_state=3, solver='liblinear')\n",
        "\n",
        "param_grid = {\n",
        "    \"penalty\": [\"l2\"],\n",
        "    \"C\": np.logspace(-2, 2, 100)\n",
        "}\n",
        "\n",
        "grid_search = GridSearchCV(model, param_grid)\n",
        "grid_search.fit(X_train, y_train)\n",
        "\n",
        "# Load best performing model\n",
        "model = grid_search.best_estimator_\n",
        "\n",
        "# Print trained parameters\n",
        "print(f'Coefficients = {model.coef_}; Bias = {model.intercept_}')"
      ]
    },
    {
      "cell_type": "markdown",
      "id": "2465b356",
      "metadata": {
        "id": "2465b356"
      },
      "source": [
        "**b)** Compute the predictions of your model in the remaining 50 rows of the dataset and report the classification accuracy of your model in this test set."
      ]
    },
    {
      "cell_type": "code",
      "execution_count": 111,
      "id": "984e8b04",
      "metadata": {
        "colab": {
          "base_uri": "https://localhost:8080/",
          "height": 365
        },
        "id": "984e8b04",
        "outputId": "3c8668dc-03fd-40fd-b2ba-39b19b00f510"
      },
      "outputs": [
        {
          "output_type": "stream",
          "name": "stdout",
          "text": [
            "Accuracy = 94.0%\n"
          ]
        },
        {
          "output_type": "display_data",
          "data": {
            "text/plain": [
              "<Figure size 576x360 with 1 Axes>"
            ],
            "image/png": "[encoded data removed]"
          },
          "metadata": {
            "needs_background": "light"
          }
        }
      ],
      "source": [
        "# Predict on test set\n",
        "y_pred = model.predict(X_test)\n",
        "\n",
        "# Evaluate model accuracy\n",
        "accuracy = (y_pred == y_test).sum()/y_pred.size\n",
        "print(f'Accuracy = {accuracy * 100}%')\n",
        "\n",
        "# Compute decision boundary \n",
        "param = (model.coef_).flatten()\n",
        "bias = model.intercept_ \n",
        "\n",
        "def boundary(x1):\n",
        "  return -param[0]/param[1] * x1 -bias/param[1]\n",
        "\n",
        "x1min, x1max = X_train[:, 0].min(), X_train[:, 0].max()\n",
        "x2min, x2max = X_train[:, 1].min(), X_train[:, 1].max()\n",
        "\n",
        "x1 = np.linspace(x1min, x1max, 1000)\n",
        "b = boundary(x1)\n",
        "\n",
        "# Plot data and boundary\n",
        "mask = (y_train == 1)\n",
        "mask2 = (y_test == 1)\n",
        "\n",
        "fig, ax = plt.subplots(1, 1, figsize=(8, 5))\n",
        "\n",
        "ax.scatter(X_train[mask, 0], X_train[mask, 1],\n",
        "           color='b', ec='k', s=50, marker='o', zorder=1)\n",
        "ax.scatter(X_train[~mask, 0], X_train[~mask, 1],\n",
        "           color='r', ec='k', s=50, marker='v', zorder=1)\n",
        "ax.scatter(X_test[mask2, 0], X_test[mask2, 1],\n",
        "           color='b', ec='k', s=50, marker='o', zorder=1)\n",
        "ax.scatter(X_test[~mask2, 0], X_test[~mask2, 1],\n",
        "           color='r', ec='k', s=50, marker='v', zorder=1)\n",
        "\n",
        "ax.plot(x1, b, '-k')\n",
        "ax.fill_between(x1, x2min*np.ones(x1.size), b, color='r', alpha=0.3, zorder=0)\n",
        "ax.fill_between(x1, b, x2max*np.ones(x1.size), color='b', alpha=0.3, zorder=0)\n",
        "\n",
        "ax.set_xlabel(r'$x_1$', fontsize=20)\n",
        "ax.set_ylabel(r'$x_2$', fontsize=20)\n",
        "ax.set_xlim(x1min, x1max)\n",
        "ax.set_ylim(x2min, x2max)\n",
        "ax.tick_params(labelsize=16)"
      ]
    },
    {
      "cell_type": "markdown",
      "id": "593edb81",
      "metadata": {
        "id": "593edb81"
      },
      "source": [
        "**c)** Using the parameter values printed in a), write the equation of the decision boundary of your model."
      ]
    },
    {
      "cell_type": "markdown",
      "id": "08855af7",
      "metadata": {
        "id": "08855af7"
      },
      "source": [
        "The decision boundary is generally a hyperplane. Since this problem is 2D, it is defined by the following equation:\n",
        "$$ a_1x_1 + a_2x_2 + b = 0 ↔ $$\n",
        "$$ x_2 = -\\frac{a_1}{a_2}x_1 - \\frac{b}{a_2} $$\n",
        "\n",
        "where $a_1, a_2$ are the parameters returned by ```model.coef_``` and $b$ by ```model.intercept_```"
      ]
    }
  ],
  "metadata": {
    "kernelspec": {
      "display_name": "Python 3 (ipykernel)",
      "language": "python",
      "name": "python3"
    },
    "language_info": {
      "codemirror_mode": {
        "name": "ipython",
        "version": 3
      },
      "file_extension": ".py",
      "mimetype": "text/x-python",
      "name": "python",
      "nbconvert_exporter": "python",
      "pygments_lexer": "ipython3",
      "version": "3.9.12"
    },
    "vscode": {
      "interpreter": {
        "hash": "19d1d53a962d236aa061289c2ac16dc8e6d9648c89fe79f459ae9a3493bc67b4"
      }
    },
    "colab": {
      "provenance": [],
      "collapsed_sections": [],
      "include_colab_link": true
    }
  },
  "nbformat": 4,
  "nbformat_minor": 5
}